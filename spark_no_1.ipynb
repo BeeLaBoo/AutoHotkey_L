{
  "nbformat": 4,
  "nbformat_minor": 0,
  "metadata": {
    "colab": {
      "name": "spark_no.1.ipynb",
      "provenance": [],
      "authorship_tag": "ABX9TyP+hXFGXYAiHsRq837JOq1M",
      "include_colab_link": true
    },
    "kernelspec": {
      "name": "python3",
      "display_name": "Python 3"
    },
    "language_info": {
      "name": "python"
    }
  },
  "cells": [
    {
      "cell_type": "markdown",
      "metadata": {
        "id": "view-in-github",
        "colab_type": "text"
      },
      "source": [
        "<a href=\"https://colab.research.google.com/github/BeeLaBoo/AutoHotkey_L/blob/master/spark_no_1.ipynb\" target=\"_parent\"><img src=\"https://colab.research.google.com/assets/colab-badge.svg\" alt=\"Open In Colab\"/></a>"
      ]
    },
    {
      "cell_type": "code",
      "source": [
        "import pandas as pd\n"
      ],
      "metadata": {
        "id": "vPQuBGOgaZrG"
      },
      "execution_count": 2,
      "outputs": []
    },
    {
      "cell_type": "markdown",
      "source": [
        "\n",
        "\n",
        "\n",
        "*****Questions:*****\n",
        "\n",
        "1. Display Top 3 Rows of The \n",
        "\n",
        "2. Display Datatype of Each Column\n",
        "3. Display Column Names\n",
        "4. Count Number of Rows and Columns of The dataset\n",
        "5.Get Overall Statistics About The Dataset\n",
        "6.Find Unique Values Available in the Gender column\n",
        "7.Find the Total Number of Unique Values Available in the Gender column\n",
        "8.How Select Single Column?\n",
        "9.How Select Multiple Columns?\n",
        "10. Create New Column  ::: With  + 1 \n",
        "And Also Update Existing DataFrame\n",
        "11. Rename Name Column And Give New Name \n",
        "12. Display Name of customers who having ...( this condition***)...\n",
        "13.Display Name & Gender of the customers who having ...( this condition***)...\n",
        "14.Display Name of The Female customers who having ...( this condition***)...\n",
        "15.Display Name of The Male customers who having ...( this condition***)...\n",
        "16. Display Average value separate by gender\n",
        "\n",
        "*** set the condition that I want to explore ***\n",
        "\n"
      ],
      "metadata": {
        "id": "gdDCvoFSl_2n"
      }
    },
    {
      "cell_type": "code",
      "source": [
        "!pip install pyspark"
      ],
      "metadata": {
        "colab": {
          "base_uri": "https://localhost:8080/"
        },
        "id": "Lrc6jSctdY__",
        "outputId": "b747f9c6-0e2d-4d8a-adc5-2c4a91a47358"
      },
      "execution_count": 8,
      "outputs": [
        {
          "output_type": "stream",
          "name": "stdout",
          "text": [
            "Collecting pyspark\n",
            "  Downloading pyspark-3.2.1.tar.gz (281.4 MB)\n",
            "\u001b[K     |████████████████████████████████| 281.4 MB 26 kB/s \n",
            "\u001b[?25hCollecting py4j==0.10.9.3\n",
            "  Downloading py4j-0.10.9.3-py2.py3-none-any.whl (198 kB)\n",
            "\u001b[K     |████████████████████████████████| 198 kB 42.9 MB/s \n",
            "\u001b[?25hBuilding wheels for collected packages: pyspark\n",
            "  Building wheel for pyspark (setup.py) ... \u001b[?25l\u001b[?25hdone\n",
            "  Created wheel for pyspark: filename=pyspark-3.2.1-py2.py3-none-any.whl size=281853642 sha256=c491e87f0915ef88105bf5abe16a56acb20c918c9e1255bee583db8245c96ef1\n",
            "  Stored in directory: /root/.cache/pip/wheels/9f/f5/07/7cd8017084dce4e93e84e92efd1e1d5334db05f2e83bcef74f\n",
            "Successfully built pyspark\n",
            "Installing collected packages: py4j, pyspark\n",
            "Successfully installed py4j-0.10.9.3 pyspark-3.2.1\n"
          ]
        }
      ]
    },
    {
      "cell_type": "code",
      "source": [
        "from pyspark.sql import SparkSession"
      ],
      "metadata": {
        "id": "JV6bxvUAervS"
      },
      "execution_count": 9,
      "outputs": []
    },
    {
      "cell_type": "code",
      "source": [
        "spark = SparkSession.builder.appName('Pyspark').getOrCreate()"
      ],
      "metadata": {
        "id": "DWZMUf1CgcEt"
      },
      "execution_count": 10,
      "outputs": []
    },
    {
      "cell_type": "markdown",
      "source": [
        "Now spark session excuted successfully"
      ],
      "metadata": {
        "id": "wAlFBVCPnMnj"
      }
    },
    {
      "cell_type": "code",
      "source": [
        "spark"
      ],
      "metadata": {
        "colab": {
          "base_uri": "https://localhost:8080/",
          "height": 221
        },
        "id": "_paLYRf7nJSU",
        "outputId": "b54af7e2-574c-4108-dd56-449daaa58bc4"
      },
      "execution_count": 11,
      "outputs": [
        {
          "output_type": "execute_result",
          "data": {
            "text/plain": [
              "<pyspark.sql.session.SparkSession at 0x7fb3aba3f3d0>"
            ],
            "text/html": [
              "\n",
              "            <div>\n",
              "                <p><b>SparkSession - in-memory</b></p>\n",
              "                \n",
              "        <div>\n",
              "            <p><b>SparkContext</b></p>\n",
              "\n",
              "            <p><a href=\"http://5bc7eed4c42d:4040\">Spark UI</a></p>\n",
              "\n",
              "            <dl>\n",
              "              <dt>Version</dt>\n",
              "                <dd><code>v3.2.1</code></dd>\n",
              "              <dt>Master</dt>\n",
              "                <dd><code>local[*]</code></dd>\n",
              "              <dt>AppName</dt>\n",
              "                <dd><code>Pyspark</code></dd>\n",
              "            </dl>\n",
              "        </div>\n",
              "        \n",
              "            </div>\n",
              "        "
            ]
          },
          "metadata": {},
          "execution_count": 11
        }
      ]
    },
    {
      "cell_type": "code",
      "source": [
        "df = spark.read.csv('/content/Sample - Superstore.csv',header = True, inferSchema = True)\n",
        "\n",
        "#header = true : to remove the spark auto generate header (c1...c15)"
      ],
      "metadata": {
        "id": "bgTk1iNHpeRs"
      },
      "execution_count": 23,
      "outputs": []
    },
    {
      "cell_type": "markdown",
      "source": [
        "copy path from dataset csv file and paste"
      ],
      "metadata": {
        "id": "qZkmAWhnpvUZ"
      }
    },
    {
      "cell_type": "code",
      "source": [
        "df.show(3)\n",
        "\n",
        "# show top 3 row"
      ],
      "metadata": {
        "colab": {
          "base_uri": "https://localhost:8080/"
        },
        "id": "EfK8v056p4dk",
        "outputId": "115c3646-56f2-45d7-98f9-bc920951bd79"
      },
      "execution_count": 21,
      "outputs": [
        {
          "output_type": "stream",
          "name": "stdout",
          "text": [
            "+------+--------------+----------+----------+------------+-----------+---------------+---------+-------------+-----------+----------+-----------+------+---------------+---------------+------------+--------------------+------+--------+--------+-------+\n",
            "|Row ID|      Order ID|Order Date| Ship Date|   Ship Mode|Customer ID|  Customer Name|  Segment|      Country|       City|     State|Postal Code|Region|     Product ID|       Category|Sub-Category|        Product Name| Sales|Quantity|Discount| Profit|\n",
            "+------+--------------+----------+----------+------------+-----------+---------------+---------+-------------+-----------+----------+-----------+------+---------------+---------------+------------+--------------------+------+--------+--------+-------+\n",
            "|     1|CA-2016-152156| 11/8/2016|11/11/2016|Second Class|   CG-12520|    Claire Gute| Consumer|United States|  Henderson|  Kentucky|      42420| South|FUR-BO-10001798|      Furniture|   Bookcases|Bush Somerset Col...|261.96|       2|       0|41.9136|\n",
            "|     2|CA-2016-152156| 11/8/2016|11/11/2016|Second Class|   CG-12520|    Claire Gute| Consumer|United States|  Henderson|  Kentucky|      42420| South|FUR-CH-10000454|      Furniture|      Chairs|Hon Deluxe Fabric...|731.94|       3|       0|219.582|\n",
            "|     3|CA-2016-138688| 6/12/2016| 6/16/2016|Second Class|   DV-13045|Darrin Van Huff|Corporate|United States|Los Angeles|California|      90036|  West|OFF-LA-10000240|Office Supplies|      Labels|Self-Adhesive Add...| 14.62|       2|       0| 6.8714|\n",
            "+------+--------------+----------+----------+------------+-----------+---------------+---------+-------------+-----------+----------+-----------+------+---------------+---------------+------------+--------------------+------+--------+--------+-------+\n",
            "only showing top 3 rows\n",
            "\n"
          ]
        }
      ]
    },
    {
      "cell_type": "code",
      "source": [
        "## datatype \n",
        "df.printSchema()"
      ],
      "metadata": {
        "colab": {
          "base_uri": "https://localhost:8080/"
        },
        "id": "E016t-oarSnk",
        "outputId": "c76728c2-d418-438c-a17d-daf76e33ff60"
      },
      "execution_count": 22,
      "outputs": [
        {
          "output_type": "stream",
          "name": "stdout",
          "text": [
            "root\n",
            " |-- Row ID: string (nullable = true)\n",
            " |-- Order ID: string (nullable = true)\n",
            " |-- Order Date: string (nullable = true)\n",
            " |-- Ship Date: string (nullable = true)\n",
            " |-- Ship Mode: string (nullable = true)\n",
            " |-- Customer ID: string (nullable = true)\n",
            " |-- Customer Name: string (nullable = true)\n",
            " |-- Segment: string (nullable = true)\n",
            " |-- Country: string (nullable = true)\n",
            " |-- City: string (nullable = true)\n",
            " |-- State: string (nullable = true)\n",
            " |-- Postal Code: string (nullable = true)\n",
            " |-- Region: string (nullable = true)\n",
            " |-- Product ID: string (nullable = true)\n",
            " |-- Category: string (nullable = true)\n",
            " |-- Sub-Category: string (nullable = true)\n",
            " |-- Product Name: string (nullable = true)\n",
            " |-- Sales: string (nullable = true)\n",
            " |-- Quantity: string (nullable = true)\n",
            " |-- Discount: string (nullable = true)\n",
            " |-- Profit: string (nullable = true)\n",
            "\n"
          ]
        }
      ]
    },
    {
      "cell_type": "markdown",
      "source": [
        "it is set by default : all string data type"
      ],
      "metadata": {
        "id": "Vq9Lv8Ubs86G"
      }
    },
    {
      "cell_type": "code",
      "source": [
        "## have to add ' inferSchema = True ' : on read csv code"
      ],
      "metadata": {
        "id": "LlaZGAlusBJc"
      },
      "execution_count": null,
      "outputs": []
    },
    {
      "cell_type": "code",
      "source": [
        "df.printSchema()"
      ],
      "metadata": {
        "colab": {
          "base_uri": "https://localhost:8080/"
        },
        "id": "wYky2oHjtdJS",
        "outputId": "e897e0d4-feff-4610-a91e-5a024ecc6493"
      },
      "execution_count": 24,
      "outputs": [
        {
          "output_type": "stream",
          "name": "stdout",
          "text": [
            "root\n",
            " |-- Row ID: integer (nullable = true)\n",
            " |-- Order ID: string (nullable = true)\n",
            " |-- Order Date: string (nullable = true)\n",
            " |-- Ship Date: string (nullable = true)\n",
            " |-- Ship Mode: string (nullable = true)\n",
            " |-- Customer ID: string (nullable = true)\n",
            " |-- Customer Name: string (nullable = true)\n",
            " |-- Segment: string (nullable = true)\n",
            " |-- Country: string (nullable = true)\n",
            " |-- City: string (nullable = true)\n",
            " |-- State: string (nullable = true)\n",
            " |-- Postal Code: integer (nullable = true)\n",
            " |-- Region: string (nullable = true)\n",
            " |-- Product ID: string (nullable = true)\n",
            " |-- Category: string (nullable = true)\n",
            " |-- Sub-Category: string (nullable = true)\n",
            " |-- Product Name: string (nullable = true)\n",
            " |-- Sales: string (nullable = true)\n",
            " |-- Quantity: string (nullable = true)\n",
            " |-- Discount: string (nullable = true)\n",
            " |-- Profit: double (nullable = true)\n",
            "\n"
          ]
        }
      ]
    },
    {
      "cell_type": "code",
      "source": [
        "df.columns"
      ],
      "metadata": {
        "colab": {
          "base_uri": "https://localhost:8080/"
        },
        "id": "79Yg8WELtmT9",
        "outputId": "fff4dc5f-b1f3-414c-c87d-dd9d003b5f62"
      },
      "execution_count": 25,
      "outputs": [
        {
          "output_type": "execute_result",
          "data": {
            "text/plain": [
              "['Row ID',\n",
              " 'Order ID',\n",
              " 'Order Date',\n",
              " 'Ship Date',\n",
              " 'Ship Mode',\n",
              " 'Customer ID',\n",
              " 'Customer Name',\n",
              " 'Segment',\n",
              " 'Country',\n",
              " 'City',\n",
              " 'State',\n",
              " 'Postal Code',\n",
              " 'Region',\n",
              " 'Product ID',\n",
              " 'Category',\n",
              " 'Sub-Category',\n",
              " 'Product Name',\n",
              " 'Sales',\n",
              " 'Quantity',\n",
              " 'Discount',\n",
              " 'Profit']"
            ]
          },
          "metadata": {},
          "execution_count": 25
        }
      ]
    },
    {
      "cell_type": "code",
      "source": [
        "df.count()\n",
        "\n",
        "# no. of rows"
      ],
      "metadata": {
        "colab": {
          "base_uri": "https://localhost:8080/"
        },
        "id": "4mX8dn2CtoFT",
        "outputId": "50af8a26-4240-41be-a3a1-231e497f9cf8"
      },
      "execution_count": 27,
      "outputs": [
        {
          "output_type": "execute_result",
          "data": {
            "text/plain": [
              "9994"
            ]
          },
          "metadata": {},
          "execution_count": 27
        }
      ]
    },
    {
      "cell_type": "code",
      "source": [
        "len(df.columns)\n",
        "\n",
        "# no.of columns"
      ],
      "metadata": {
        "colab": {
          "base_uri": "https://localhost:8080/"
        },
        "id": "YKrlTIkotxRM",
        "outputId": "7d502d20-dbbe-4bb5-bbd4-2c3710115a2f"
      },
      "execution_count": 29,
      "outputs": [
        {
          "output_type": "execute_result",
          "data": {
            "text/plain": [
              "21"
            ]
          },
          "metadata": {},
          "execution_count": 29
        }
      ]
    },
    {
      "cell_type": "code",
      "source": [
        "## stat\n",
        "df.describe().show()"
      ],
      "metadata": {
        "colab": {
          "base_uri": "https://localhost:8080/"
        },
        "id": "wMpvgTydt-g8",
        "outputId": "ae38dbda-38b3-4903-dc01-3a2ee60286e6"
      },
      "execution_count": 32,
      "outputs": [
        {
          "output_type": "stream",
          "name": "stdout",
          "text": [
            "+-------+------------------+--------------+----------+---------+--------------+-----------+------------------+-----------+-------------+--------+-------+------------------+-------+---------------+----------+------------+--------------------+------------------+------------------+------------------+------------------+\n",
            "|summary|            Row ID|      Order ID|Order Date|Ship Date|     Ship Mode|Customer ID|     Customer Name|    Segment|      Country|    City|  State|       Postal Code| Region|     Product ID|  Category|Sub-Category|        Product Name|             Sales|          Quantity|          Discount|            Profit|\n",
            "+-------+------------------+--------------+----------+---------+--------------+-----------+------------------+-----------+-------------+--------+-------+------------------+-------+---------------+----------+------------+--------------------+------------------+------------------+------------------+------------------+\n",
            "|  count|              9994|          9994|      9994|     9994|          9994|       9994|              9994|       9994|         9994|    9994|   9994|              9994|   9994|           9994|      9994|        9994|                9994|              9994|              9994|              9994|              9994|\n",
            "|   mean|            4997.5|          null|      null|     null|          null|       null|              null|       null|         null|    null|   null|  55190.3794276566|   null|           null|      null|        null|                null|234.41818199917006| 5.828590535392018|0.3155949113492862|28.587912967780834|\n",
            "| stddev|2885.1636290974325|          null|      null|     null|          null|       null|              null|       null|         null|    null|   null|32063.693350364487|   null|           null|      null|        null|                null| 631.7890112674363|25.520975563736403| 3.314008629792499| 234.3891156047269|\n",
            "|    min|                 1|CA-2014-100006|  1/1/2017| 1/1/2015|   First Class|   AA-10315|     Aaron Bergman|   Consumer|United States|Aberdeen|Alabama|              1040|Central|FUR-BO-10000112| Furniture| Accessories|\"\"\"While you Were...|          10/Pack\"|      1040 sheets\"|           30/Box\"|         -6599.978|\n",
            "|    max|              9994|US-2017-169551|  9/9/2017| 9/9/2017|Standard Class|   ZD-21925|Zuschuss Donatelli|Home Office|United States|    Yuma|Wyoming|             99301|   West|TEC-PH-10004977|Technology|      Tables|netTALK DUO VoIP ...|            999.98|            98.352|            98.352|          8399.976|\n",
            "+-------+------------------+--------------+----------+---------+--------------+-----------+------------------+-----------+-------------+--------+-------+------------------+-------+---------------+----------+------------+--------------------+------------------+------------------+------------------+------------------+\n",
            "\n"
          ]
        }
      ]
    },
    {
      "cell_type": "markdown",
      "source": [
        "**toPandas()** method"
      ],
      "metadata": {
        "id": "TXYhIjrHve_1"
      }
    },
    {
      "cell_type": "code",
      "source": [
        "# count unique value of variable 'Region'\n",
        "\n",
        "# convert spark dataframe to pandas dataframe\n",
        "\n",
        "df.toPandas()['Region'].nunique()"
      ],
      "metadata": {
        "colab": {
          "base_uri": "https://localhost:8080/"
        },
        "id": "ruO2mdX6uYF9",
        "outputId": "5fc527bc-c0b4-4f46-f1d0-5e4e94fcc12c"
      },
      "execution_count": 33,
      "outputs": [
        {
          "output_type": "execute_result",
          "data": {
            "text/plain": [
              "4"
            ]
          },
          "metadata": {},
          "execution_count": 33
        }
      ]
    },
    {
      "cell_type": "code",
      "source": [
        "len(df.toPandas()['Region'].unique())"
      ],
      "metadata": {
        "colab": {
          "base_uri": "https://localhost:8080/"
        },
        "id": "BIQxXrw3vKod",
        "outputId": "39953ff8-82f3-470a-e1a5-07e8560cae8d"
      },
      "execution_count": 37,
      "outputs": [
        {
          "output_type": "execute_result",
          "data": {
            "text/plain": [
              "4"
            ]
          },
          "metadata": {},
          "execution_count": 37
        }
      ]
    },
    {
      "cell_type": "markdown",
      "source": [
        "4 regions"
      ],
      "metadata": {
        "id": "OYSBRpiEvTEr"
      }
    },
    {
      "cell_type": "code",
      "source": [
        "df.toPandas()['Region'].unique()"
      ],
      "metadata": {
        "colab": {
          "base_uri": "https://localhost:8080/"
        },
        "id": "wAIhLSo4uMsr",
        "outputId": "310ccd82-6fa3-4b89-ae95-43e1dfee11c0"
      },
      "execution_count": 34,
      "outputs": [
        {
          "output_type": "execute_result",
          "data": {
            "text/plain": [
              "array(['South', 'West', 'Central', 'East'], dtype=object)"
            ]
          },
          "metadata": {},
          "execution_count": 34
        }
      ]
    },
    {
      "cell_type": "code",
      "source": [
        "df.toPandas()['Region'].value_counts()"
      ],
      "metadata": {
        "colab": {
          "base_uri": "https://localhost:8080/"
        },
        "id": "yby1cswjvH6I",
        "outputId": "79df8d62-5514-4ee4-f0f6-29b004a4ee6f"
      },
      "execution_count": 36,
      "outputs": [
        {
          "output_type": "execute_result",
          "data": {
            "text/plain": [
              "West       3203\n",
              "East       2848\n",
              "Central    2323\n",
              "South      1620\n",
              "Name: Region, dtype: int64"
            ]
          },
          "metadata": {},
          "execution_count": 36
        }
      ]
    },
    {
      "cell_type": "code",
      "source": [
        "## select only one column\n",
        "\n",
        "df.select('Customer Name').show(10)"
      ],
      "metadata": {
        "colab": {
          "base_uri": "https://localhost:8080/"
        },
        "id": "lsqokEZDvwHL",
        "outputId": "be4e5188-e7d1-42cc-8e95-cb6d2d5e74b4"
      },
      "execution_count": 43,
      "outputs": [
        {
          "output_type": "stream",
          "name": "stdout",
          "text": [
            "+---------------+\n",
            "|  Customer Name|\n",
            "+---------------+\n",
            "|    Claire Gute|\n",
            "|    Claire Gute|\n",
            "|Darrin Van Huff|\n",
            "| Sean O'Donnell|\n",
            "| Sean O'Donnell|\n",
            "|Brosina Hoffman|\n",
            "|Brosina Hoffman|\n",
            "|Brosina Hoffman|\n",
            "|Brosina Hoffman|\n",
            "|Brosina Hoffman|\n",
            "+---------------+\n",
            "only showing top 10 rows\n",
            "\n"
          ]
        }
      ]
    },
    {
      "cell_type": "code",
      "source": [
        "## select multiple columns\n",
        "## use list : []\n",
        "\n",
        "\n",
        "df.select(['Customer Name','City','Profit']).show(10)\n"
      ],
      "metadata": {
        "colab": {
          "base_uri": "https://localhost:8080/"
        },
        "id": "D2i5up1L6SYD",
        "outputId": "f118d369-67a7-43aa-f5c2-0cf82630ec22"
      },
      "execution_count": 44,
      "outputs": [
        {
          "output_type": "stream",
          "name": "stdout",
          "text": [
            "+---------------+---------------+--------+\n",
            "|  Customer Name|           City|  Profit|\n",
            "+---------------+---------------+--------+\n",
            "|    Claire Gute|      Henderson| 41.9136|\n",
            "|    Claire Gute|      Henderson| 219.582|\n",
            "|Darrin Van Huff|    Los Angeles|  6.8714|\n",
            "| Sean O'Donnell|Fort Lauderdale|-383.031|\n",
            "| Sean O'Donnell|Fort Lauderdale|  2.5164|\n",
            "|Brosina Hoffman|    Los Angeles| 14.1694|\n",
            "|Brosina Hoffman|    Los Angeles|  1.9656|\n",
            "|Brosina Hoffman|    Los Angeles| 90.7152|\n",
            "|Brosina Hoffman|    Los Angeles|  5.7825|\n",
            "|Brosina Hoffman|    Los Angeles|   34.47|\n",
            "+---------------+---------------+--------+\n",
            "only showing top 10 rows\n",
            "\n"
          ]
        }
      ]
    },
    {
      "cell_type": "markdown",
      "source": [
        "*** withColumn()*** method"
      ],
      "metadata": {
        "id": "SiuZY0Ql8GsD"
      }
    },
    {
      "cell_type": "code",
      "source": [
        "## create new column , give cloumn name\n",
        "## add *0.70 (on sale 30%) \n",
        "##  Sales to new column name : '30%_off'\n",
        "\n",
        "df.withColumn('30%_off',df.Sales*0.7).show()\n",
        "\n",
        "## assign/update new column to dataframe : this case I will set as new df"
      ],
      "metadata": {
        "colab": {
          "base_uri": "https://localhost:8080/"
        },
        "id": "kYcB4t3u7U7o",
        "outputId": "6a4e5ed2-5f1d-4a76-c925-35437ca756c0"
      },
      "execution_count": 53,
      "outputs": [
        {
          "output_type": "stream",
          "name": "stdout",
          "text": [
            "+------+--------------+----------+----------+--------------+-----------+------------------+-----------+-------------+---------------+--------------+-----------+-------+---------------+---------------+------------+--------------------+--------+--------+--------+--------+------------------+\n",
            "|Row ID|      Order ID|Order Date| Ship Date|     Ship Mode|Customer ID|     Customer Name|    Segment|      Country|           City|         State|Postal Code| Region|     Product ID|       Category|Sub-Category|        Product Name|   Sales|Quantity|Discount|  Profit|           30%_off|\n",
            "+------+--------------+----------+----------+--------------+-----------+------------------+-----------+-------------+---------------+--------------+-----------+-------+---------------+---------------+------------+--------------------+--------+--------+--------+--------+------------------+\n",
            "|     1|CA-2016-152156| 11/8/2016|11/11/2016|  Second Class|   CG-12520|       Claire Gute|   Consumer|United States|      Henderson|      Kentucky|      42420|  South|FUR-BO-10001798|      Furniture|   Bookcases|Bush Somerset Col...|  261.96|       2|       0| 41.9136|183.37199999999999|\n",
            "|     2|CA-2016-152156| 11/8/2016|11/11/2016|  Second Class|   CG-12520|       Claire Gute|   Consumer|United States|      Henderson|      Kentucky|      42420|  South|FUR-CH-10000454|      Furniture|      Chairs|Hon Deluxe Fabric...|  731.94|       3|       0| 219.582| 512.3580000000001|\n",
            "|     3|CA-2016-138688| 6/12/2016| 6/16/2016|  Second Class|   DV-13045|   Darrin Van Huff|  Corporate|United States|    Los Angeles|    California|      90036|   West|OFF-LA-10000240|Office Supplies|      Labels|Self-Adhesive Add...|   14.62|       2|       0|  6.8714|10.233999999999998|\n",
            "|     4|US-2015-108966|10/11/2015|10/18/2015|Standard Class|   SO-20335|    Sean O'Donnell|   Consumer|United States|Fort Lauderdale|       Florida|      33311|  South|FUR-TA-10000577|      Furniture|      Tables|Bretford CR4500 S...|957.5775|       5|    0.45|-383.031| 670.3042499999999|\n",
            "|     5|US-2015-108966|10/11/2015|10/18/2015|Standard Class|   SO-20335|    Sean O'Donnell|   Consumer|United States|Fort Lauderdale|       Florida|      33311|  South|OFF-ST-10000760|Office Supplies|     Storage|Eldon Fold 'N Rol...|  22.368|       2|     0.2|  2.5164|15.657599999999999|\n",
            "|     6|CA-2014-115812|  6/9/2014| 6/14/2014|Standard Class|   BH-11710|   Brosina Hoffman|   Consumer|United States|    Los Angeles|    California|      90032|   West|FUR-FU-10001487|      Furniture| Furnishings|Eldon Expressions...|   48.86|       7|       0| 14.1694|            34.202|\n",
            "|     7|CA-2014-115812|  6/9/2014| 6/14/2014|Standard Class|   BH-11710|   Brosina Hoffman|   Consumer|United States|    Los Angeles|    California|      90032|   West|OFF-AR-10002833|Office Supplies|         Art|          Newell 322|    7.28|       4|       0|  1.9656|             5.096|\n",
            "|     8|CA-2014-115812|  6/9/2014| 6/14/2014|Standard Class|   BH-11710|   Brosina Hoffman|   Consumer|United States|    Los Angeles|    California|      90032|   West|TEC-PH-10002275|     Technology|      Phones|Mitel 5320 IP Pho...| 907.152|       6|     0.2| 90.7152|          635.0064|\n",
            "|     9|CA-2014-115812|  6/9/2014| 6/14/2014|Standard Class|   BH-11710|   Brosina Hoffman|   Consumer|United States|    Los Angeles|    California|      90032|   West|OFF-BI-10003910|Office Supplies|     Binders|DXL Angle-View Bi...|  18.504|       3|     0.2|  5.7825|           12.9528|\n",
            "|    10|CA-2014-115812|  6/9/2014| 6/14/2014|Standard Class|   BH-11710|   Brosina Hoffman|   Consumer|United States|    Los Angeles|    California|      90032|   West|OFF-AP-10002892|Office Supplies|  Appliances|Belkin F5C206VTEL...|   114.9|       5|       0|   34.47| 80.42999999999999|\n",
            "|    11|CA-2014-115812|  6/9/2014| 6/14/2014|Standard Class|   BH-11710|   Brosina Hoffman|   Consumer|United States|    Los Angeles|    California|      90032|   West|FUR-TA-10001539|      Furniture|      Tables|Chromcraft Rectan...|1706.184|       9|     0.2| 85.3092|         1194.3288|\n",
            "|    12|CA-2014-115812|  6/9/2014| 6/14/2014|Standard Class|   BH-11710|   Brosina Hoffman|   Consumer|United States|    Los Angeles|    California|      90032|   West|TEC-PH-10002033|     Technology|      Phones|Konftel 250 Confe...| 911.424|       4|     0.2| 68.3568| 637.9967999999999|\n",
            "|    13|CA-2017-114412| 4/15/2017| 4/20/2017|Standard Class|   AA-10480|      Andrew Allen|   Consumer|United States|        Concord|North Carolina|      28027|  South|OFF-PA-10002365|Office Supplies|       Paper|          Xerox 1967|  15.552|       3|     0.2|  5.4432|10.886399999999998|\n",
            "|    14|CA-2016-161389| 12/5/2016|12/10/2016|Standard Class|   IM-15070|      Irene Maddox|   Consumer|United States|        Seattle|    Washington|      98103|   West|OFF-BI-10003656|Office Supplies|     Binders|Fellowes PB200 Pl...| 407.976|       3|     0.2|132.5922|          285.5832|\n",
            "|    15|US-2015-118983|11/22/2015|11/26/2015|Standard Class|   HP-14815|     Harold Pawlan|Home Office|United States|     Fort Worth|         Texas|      76106|Central|OFF-AP-10002311|Office Supplies|  Appliances|Holmes Replacemen...|   68.81|       5|     0.8|-123.858|            48.167|\n",
            "|    16|US-2015-118983|11/22/2015|11/26/2015|Standard Class|   HP-14815|     Harold Pawlan|Home Office|United States|     Fort Worth|         Texas|      76106|Central|OFF-BI-10000756|Office Supplies|     Binders|Storex DuraTech R...|   2.544|       3|     0.8|  -3.816|            1.7808|\n",
            "|    17|CA-2014-105893|11/11/2014|11/18/2014|Standard Class|   PK-19075|         Pete Kriz|   Consumer|United States|        Madison|     Wisconsin|      53711|Central|OFF-ST-10004186|Office Supplies|     Storage|\"Stur-D-Stor Shel...|  665.88|       6|       0| 13.3176|           466.116|\n",
            "|    18|CA-2014-167164| 5/13/2014| 5/15/2014|  Second Class|   AG-10270|   Alejandro Grove|   Consumer|United States|    West Jordan|          Utah|      84084|   West|OFF-ST-10000107|Office Supplies|     Storage|Fellowes Super St...|    55.5|       2|       0|    9.99|38.849999999999994|\n",
            "|    19|CA-2014-143336| 8/27/2014|  9/1/2014|  Second Class|   ZD-21925|Zuschuss Donatelli|   Consumer|United States|  San Francisco|    California|      94109|   West|OFF-AR-10003056|Office Supplies|         Art|          Newell 341|    8.56|       2|       0|  2.4824|             5.992|\n",
            "|    20|CA-2014-143336| 8/27/2014|  9/1/2014|  Second Class|   ZD-21925|Zuschuss Donatelli|   Consumer|United States|  San Francisco|    California|      94109|   West|TEC-PH-10001949|     Technology|      Phones|Cisco SPA 501G IP...|  213.48|       3|     0.2|  16.011|149.43599999999998|\n",
            "+------+--------------+----------+----------+--------------+-----------+------------------+-----------+-------------+---------------+--------------+-----------+-------+---------------+---------------+------------+--------------------+--------+--------+--------+--------+------------------+\n",
            "only showing top 20 rows\n",
            "\n"
          ]
        }
      ]
    },
    {
      "cell_type": "code",
      "source": [
        "df1 = df.withColumn('30%_off',df.Sales*0.7)"
      ],
      "metadata": {
        "id": "2Po5uwIP9JxO"
      },
      "execution_count": 54,
      "outputs": []
    },
    {
      "cell_type": "code",
      "source": [
        "df1.show()"
      ],
      "metadata": {
        "colab": {
          "base_uri": "https://localhost:8080/"
        },
        "id": "3S4bD7il9sJ0",
        "outputId": "6f4d2ec7-d92d-4c50-bfd9-f4d79d987ff5"
      },
      "execution_count": 55,
      "outputs": [
        {
          "output_type": "stream",
          "name": "stdout",
          "text": [
            "+------+--------------+----------+----------+--------------+-----------+------------------+-----------+-------------+---------------+--------------+-----------+-------+---------------+---------------+------------+--------------------+--------+--------+--------+--------+------------------+\n",
            "|Row ID|      Order ID|Order Date| Ship Date|     Ship Mode|Customer ID|     Customer Name|    Segment|      Country|           City|         State|Postal Code| Region|     Product ID|       Category|Sub-Category|        Product Name|   Sales|Quantity|Discount|  Profit|           30%_off|\n",
            "+------+--------------+----------+----------+--------------+-----------+------------------+-----------+-------------+---------------+--------------+-----------+-------+---------------+---------------+------------+--------------------+--------+--------+--------+--------+------------------+\n",
            "|     1|CA-2016-152156| 11/8/2016|11/11/2016|  Second Class|   CG-12520|       Claire Gute|   Consumer|United States|      Henderson|      Kentucky|      42420|  South|FUR-BO-10001798|      Furniture|   Bookcases|Bush Somerset Col...|  261.96|       2|       0| 41.9136|183.37199999999999|\n",
            "|     2|CA-2016-152156| 11/8/2016|11/11/2016|  Second Class|   CG-12520|       Claire Gute|   Consumer|United States|      Henderson|      Kentucky|      42420|  South|FUR-CH-10000454|      Furniture|      Chairs|Hon Deluxe Fabric...|  731.94|       3|       0| 219.582| 512.3580000000001|\n",
            "|     3|CA-2016-138688| 6/12/2016| 6/16/2016|  Second Class|   DV-13045|   Darrin Van Huff|  Corporate|United States|    Los Angeles|    California|      90036|   West|OFF-LA-10000240|Office Supplies|      Labels|Self-Adhesive Add...|   14.62|       2|       0|  6.8714|10.233999999999998|\n",
            "|     4|US-2015-108966|10/11/2015|10/18/2015|Standard Class|   SO-20335|    Sean O'Donnell|   Consumer|United States|Fort Lauderdale|       Florida|      33311|  South|FUR-TA-10000577|      Furniture|      Tables|Bretford CR4500 S...|957.5775|       5|    0.45|-383.031| 670.3042499999999|\n",
            "|     5|US-2015-108966|10/11/2015|10/18/2015|Standard Class|   SO-20335|    Sean O'Donnell|   Consumer|United States|Fort Lauderdale|       Florida|      33311|  South|OFF-ST-10000760|Office Supplies|     Storage|Eldon Fold 'N Rol...|  22.368|       2|     0.2|  2.5164|15.657599999999999|\n",
            "|     6|CA-2014-115812|  6/9/2014| 6/14/2014|Standard Class|   BH-11710|   Brosina Hoffman|   Consumer|United States|    Los Angeles|    California|      90032|   West|FUR-FU-10001487|      Furniture| Furnishings|Eldon Expressions...|   48.86|       7|       0| 14.1694|            34.202|\n",
            "|     7|CA-2014-115812|  6/9/2014| 6/14/2014|Standard Class|   BH-11710|   Brosina Hoffman|   Consumer|United States|    Los Angeles|    California|      90032|   West|OFF-AR-10002833|Office Supplies|         Art|          Newell 322|    7.28|       4|       0|  1.9656|             5.096|\n",
            "|     8|CA-2014-115812|  6/9/2014| 6/14/2014|Standard Class|   BH-11710|   Brosina Hoffman|   Consumer|United States|    Los Angeles|    California|      90032|   West|TEC-PH-10002275|     Technology|      Phones|Mitel 5320 IP Pho...| 907.152|       6|     0.2| 90.7152|          635.0064|\n",
            "|     9|CA-2014-115812|  6/9/2014| 6/14/2014|Standard Class|   BH-11710|   Brosina Hoffman|   Consumer|United States|    Los Angeles|    California|      90032|   West|OFF-BI-10003910|Office Supplies|     Binders|DXL Angle-View Bi...|  18.504|       3|     0.2|  5.7825|           12.9528|\n",
            "|    10|CA-2014-115812|  6/9/2014| 6/14/2014|Standard Class|   BH-11710|   Brosina Hoffman|   Consumer|United States|    Los Angeles|    California|      90032|   West|OFF-AP-10002892|Office Supplies|  Appliances|Belkin F5C206VTEL...|   114.9|       5|       0|   34.47| 80.42999999999999|\n",
            "|    11|CA-2014-115812|  6/9/2014| 6/14/2014|Standard Class|   BH-11710|   Brosina Hoffman|   Consumer|United States|    Los Angeles|    California|      90032|   West|FUR-TA-10001539|      Furniture|      Tables|Chromcraft Rectan...|1706.184|       9|     0.2| 85.3092|         1194.3288|\n",
            "|    12|CA-2014-115812|  6/9/2014| 6/14/2014|Standard Class|   BH-11710|   Brosina Hoffman|   Consumer|United States|    Los Angeles|    California|      90032|   West|TEC-PH-10002033|     Technology|      Phones|Konftel 250 Confe...| 911.424|       4|     0.2| 68.3568| 637.9967999999999|\n",
            "|    13|CA-2017-114412| 4/15/2017| 4/20/2017|Standard Class|   AA-10480|      Andrew Allen|   Consumer|United States|        Concord|North Carolina|      28027|  South|OFF-PA-10002365|Office Supplies|       Paper|          Xerox 1967|  15.552|       3|     0.2|  5.4432|10.886399999999998|\n",
            "|    14|CA-2016-161389| 12/5/2016|12/10/2016|Standard Class|   IM-15070|      Irene Maddox|   Consumer|United States|        Seattle|    Washington|      98103|   West|OFF-BI-10003656|Office Supplies|     Binders|Fellowes PB200 Pl...| 407.976|       3|     0.2|132.5922|          285.5832|\n",
            "|    15|US-2015-118983|11/22/2015|11/26/2015|Standard Class|   HP-14815|     Harold Pawlan|Home Office|United States|     Fort Worth|         Texas|      76106|Central|OFF-AP-10002311|Office Supplies|  Appliances|Holmes Replacemen...|   68.81|       5|     0.8|-123.858|            48.167|\n",
            "|    16|US-2015-118983|11/22/2015|11/26/2015|Standard Class|   HP-14815|     Harold Pawlan|Home Office|United States|     Fort Worth|         Texas|      76106|Central|OFF-BI-10000756|Office Supplies|     Binders|Storex DuraTech R...|   2.544|       3|     0.8|  -3.816|            1.7808|\n",
            "|    17|CA-2014-105893|11/11/2014|11/18/2014|Standard Class|   PK-19075|         Pete Kriz|   Consumer|United States|        Madison|     Wisconsin|      53711|Central|OFF-ST-10004186|Office Supplies|     Storage|\"Stur-D-Stor Shel...|  665.88|       6|       0| 13.3176|           466.116|\n",
            "|    18|CA-2014-167164| 5/13/2014| 5/15/2014|  Second Class|   AG-10270|   Alejandro Grove|   Consumer|United States|    West Jordan|          Utah|      84084|   West|OFF-ST-10000107|Office Supplies|     Storage|Fellowes Super St...|    55.5|       2|       0|    9.99|38.849999999999994|\n",
            "|    19|CA-2014-143336| 8/27/2014|  9/1/2014|  Second Class|   ZD-21925|Zuschuss Donatelli|   Consumer|United States|  San Francisco|    California|      94109|   West|OFF-AR-10003056|Office Supplies|         Art|          Newell 341|    8.56|       2|       0|  2.4824|             5.992|\n",
            "|    20|CA-2014-143336| 8/27/2014|  9/1/2014|  Second Class|   ZD-21925|Zuschuss Donatelli|   Consumer|United States|  San Francisco|    California|      94109|   West|TEC-PH-10001949|     Technology|      Phones|Cisco SPA 501G IP...|  213.48|       3|     0.2|  16.011|149.43599999999998|\n",
            "+------+--------------+----------+----------+--------------+-----------+------------------+-----------+-------------+---------------+--------------+-----------+-------+---------------+---------------+------------+--------------------+--------+--------+--------+--------+------------------+\n",
            "only showing top 20 rows\n",
            "\n"
          ]
        }
      ]
    },
    {
      "cell_type": "markdown",
      "source": [
        "**withColumnRenamed()**"
      ],
      "metadata": {
        "id": "zzFMpOaa-efA"
      }
    },
    {
      "cell_type": "code",
      "source": [
        "## rename column\n",
        "## 'Product ID' to 'SKU'\n",
        "\n",
        "df1.withColumnRenamed('Product ID','SKU').show(3)\n"
      ],
      "metadata": {
        "colab": {
          "base_uri": "https://localhost:8080/"
        },
        "id": "FVxCdVCW9vEt",
        "outputId": "d03d04f0-9bd0-48a3-e549-53068c6315a2"
      },
      "execution_count": 60,
      "outputs": [
        {
          "output_type": "stream",
          "name": "stdout",
          "text": [
            "+------+--------------+----------+----------+------------+-----------+---------------+---------+-------------+-----------+----------+-----------+------+---------------+---------------+------------+--------------------+------+--------+--------+-------+------------------+\n",
            "|Row ID|      Order ID|Order Date| Ship Date|   Ship Mode|Customer ID|  Customer Name|  Segment|      Country|       City|     State|Postal Code|Region|            SKU|       Category|Sub-Category|        Product Name| Sales|Quantity|Discount| Profit|           30%_off|\n",
            "+------+--------------+----------+----------+------------+-----------+---------------+---------+-------------+-----------+----------+-----------+------+---------------+---------------+------------+--------------------+------+--------+--------+-------+------------------+\n",
            "|     1|CA-2016-152156| 11/8/2016|11/11/2016|Second Class|   CG-12520|    Claire Gute| Consumer|United States|  Henderson|  Kentucky|      42420| South|FUR-BO-10001798|      Furniture|   Bookcases|Bush Somerset Col...|261.96|       2|       0|41.9136|183.37199999999999|\n",
            "|     2|CA-2016-152156| 11/8/2016|11/11/2016|Second Class|   CG-12520|    Claire Gute| Consumer|United States|  Henderson|  Kentucky|      42420| South|FUR-CH-10000454|      Furniture|      Chairs|Hon Deluxe Fabric...|731.94|       3|       0|219.582| 512.3580000000001|\n",
            "|     3|CA-2016-138688| 6/12/2016| 6/16/2016|Second Class|   DV-13045|Darrin Van Huff|Corporate|United States|Los Angeles|California|      90036|  West|OFF-LA-10000240|Office Supplies|      Labels|Self-Adhesive Add...| 14.62|       2|       0| 6.8714|10.233999999999998|\n",
            "+------+--------------+----------+----------+------------+-----------+---------------+---------+-------------+-----------+----------+-----------+------+---------------+---------------+------------+--------------------+------+--------+--------+-------+------------------+\n",
            "only showing top 3 rows\n",
            "\n"
          ]
        }
      ]
    },
    {
      "cell_type": "code",
      "source": [
        "df1 = df1.withColumnRenamed('Product ID','SKU')"
      ],
      "metadata": {
        "id": "Sb8mFSq_-1T2"
      },
      "execution_count": 61,
      "outputs": []
    },
    {
      "cell_type": "code",
      "source": [
        "df1.show(3)"
      ],
      "metadata": {
        "colab": {
          "base_uri": "https://localhost:8080/"
        },
        "id": "5ohCNo-o-1JC",
        "outputId": "594426a5-2e05-48fe-ec46-50d01e38fb13"
      },
      "execution_count": 62,
      "outputs": [
        {
          "output_type": "stream",
          "name": "stdout",
          "text": [
            "+------+--------------+----------+----------+------------+-----------+---------------+---------+-------------+-----------+----------+-----------+------+---------------+---------------+------------+--------------------+------+--------+--------+-------+------------------+\n",
            "|Row ID|      Order ID|Order Date| Ship Date|   Ship Mode|Customer ID|  Customer Name|  Segment|      Country|       City|     State|Postal Code|Region|            SKU|       Category|Sub-Category|        Product Name| Sales|Quantity|Discount| Profit|           30%_off|\n",
            "+------+--------------+----------+----------+------------+-----------+---------------+---------+-------------+-----------+----------+-----------+------+---------------+---------------+------------+--------------------+------+--------+--------+-------+------------------+\n",
            "|     1|CA-2016-152156| 11/8/2016|11/11/2016|Second Class|   CG-12520|    Claire Gute| Consumer|United States|  Henderson|  Kentucky|      42420| South|FUR-BO-10001798|      Furniture|   Bookcases|Bush Somerset Col...|261.96|       2|       0|41.9136|183.37199999999999|\n",
            "|     2|CA-2016-152156| 11/8/2016|11/11/2016|Second Class|   CG-12520|    Claire Gute| Consumer|United States|  Henderson|  Kentucky|      42420| South|FUR-CH-10000454|      Furniture|      Chairs|Hon Deluxe Fabric...|731.94|       3|       0|219.582| 512.3580000000001|\n",
            "|     3|CA-2016-138688| 6/12/2016| 6/16/2016|Second Class|   DV-13045|Darrin Van Huff|Corporate|United States|Los Angeles|California|      90036|  West|OFF-LA-10000240|Office Supplies|      Labels|Self-Adhesive Add...| 14.62|       2|       0| 6.8714|10.233999999999998|\n",
            "+------+--------------+----------+----------+------------+-----------+---------------+---------+-------------+-----------+----------+-----------+------+---------------+---------------+------------+--------------------+------+--------+--------+-------+------------------+\n",
            "only showing top 3 rows\n",
            "\n"
          ]
        }
      ]
    },
    {
      "cell_type": "markdown",
      "source": [
        "**filter()** method"
      ],
      "metadata": {
        "id": "FUWD3s6s_YKa"
      }
    },
    {
      "cell_type": "code",
      "source": [
        "## who are the profitable customers that my company got profit from them more than $100?\n",
        "\n",
        "df1.filter(df1['Profit']>100).show()"
      ],
      "metadata": {
        "colab": {
          "base_uri": "https://localhost:8080/"
        },
        "id": "20qVj5T9-0-q",
        "outputId": "e9845b36-d961-4aa0-a243-308f62929d98"
      },
      "execution_count": 63,
      "outputs": [
        {
          "output_type": "stream",
          "name": "stdout",
          "text": [
            "+------+--------------+----------+----------+--------------+-----------+-----------------+-----------+-------------+-------------+----------+-----------+-------+---------------+---------------+------------+--------------------+--------+--------+--------+--------+------------------+\n",
            "|Row ID|      Order ID|Order Date| Ship Date|     Ship Mode|Customer ID|    Customer Name|    Segment|      Country|         City|     State|Postal Code| Region|            SKU|       Category|Sub-Category|        Product Name|   Sales|Quantity|Discount|  Profit|           30%_off|\n",
            "+------+--------------+----------+----------+--------------+-----------+-----------------+-----------+-------------+-------------+----------+-----------+-------+---------------+---------------+------------+--------------------+--------+--------+--------+--------+------------------+\n",
            "|     2|CA-2016-152156| 11/8/2016|11/11/2016|  Second Class|   CG-12520|      Claire Gute|   Consumer|United States|    Henderson|  Kentucky|      42420|  South|FUR-CH-10000454|      Furniture|      Chairs|Hon Deluxe Fabric...|  731.94|       3|       0| 219.582| 512.3580000000001|\n",
            "|    14|CA-2016-161389| 12/5/2016|12/10/2016|Standard Class|   IM-15070|     Irene Maddox|   Consumer|United States|      Seattle|Washington|      98103|   West|OFF-BI-10003656|Office Supplies|     Binders|Fellowes PB200 Pl...| 407.976|       3|     0.2|132.5922|          285.5832|\n",
            "|    25|CA-2015-106320| 9/25/2015| 9/30/2015|Standard Class|   EB-13870|      Emily Burns|   Consumer|United States|         Orem|      Utah|      84057|   West|FUR-TA-10000577|      Furniture|      Tables|Bretford CR4500 S...| 1044.63|       3|       0|240.2649|           731.241|\n",
            "|    36|CA-2016-117590| 12/8/2016|12/10/2016|   First Class|   GH-14485|        Gene Hale|  Corporate|United States|   Richardson|     Texas|      75080|Central|TEC-PH-10004977|     Technology|      Phones|         GE 30524EE4|1097.544|       7|     0.2|123.4737|          768.2808|\n",
            "|    55|CA-2016-105816|12/11/2016|12/17/2016|Standard Class|   JM-15265|   Janet Molinari|  Corporate|United States|New York City|  New York|      10024|   East|TEC-PH-10002447|     Technology|      Phones|AT&T CL83451 4-Ha...| 1029.95|       5|       0|298.6855|           720.965|\n",
            "|    68|CA-2014-106376| 12/5/2014|12/10/2014|Standard Class|   BS-11590|    Brendan Sweed|  Corporate|United States|      Gilbert|   Arizona|      85234|   West|OFF-AR-10002671|Office Supplies|         Art|Hunt BOSTON Model...|1113.024|       8|     0.2|111.3024| 779.1167999999999|\n",
            "|   118|CA-2015-110457|  3/2/2015|  3/6/2015|Standard Class|   DK-13090|        Dave Kipp|   Consumer|United States|      Seattle|Washington|      98103|   West|FUR-TA-10001768|      Furniture|      Tables|Hon Racetrack Con...|  787.53|       3|       0|165.3813|           551.271|\n",
            "|   145|CA-2017-155376|12/22/2017|12/27/2017|Standard Class|   SG-20080|   Sandra Glassco|   Consumer|United States| Independence|  Missouri|      64055|Central|OFF-AP-10001058|Office Supplies|  Appliances|Sanyo 2.5 Cubic F...|  839.43|       3|       0|218.2518| 587.6009999999999|\n",
            "|   148|CA-2016-114489| 12/5/2016| 12/9/2016|Standard Class|   JE-16165|   Justin Ellison|  Corporate|United States|     Franklin| Wisconsin|      53132|Central|TEC-PH-10000215|     Technology|      Phones|Plantronics Cordl...|  384.45|      11|       0|103.8015|269.11499999999995|\n",
            "|   150|CA-2016-114489| 12/5/2016| 12/9/2016|Standard Class|   JE-16165|   Justin Ellison|  Corporate|United States|     Franklin| Wisconsin|      53132|Central|FUR-CH-10000454|      Furniture|      Chairs|Hon Deluxe Fabric...| 1951.84|       8|       0| 585.552|1366.2879999999998|\n",
            "|   160|CA-2016-114104|11/20/2016|11/24/2016|Standard Class|   NP-18670|       Nora Paige|   Consumer|United States|       Edmond|  Oklahoma|      73034|Central|TEC-PH-10004536|     Technology|      Phones|Avaya 5420 Digita...|  944.93|       7|       0|236.2325| 661.4509999999999|\n",
            "|   183|CA-2014-158274|11/19/2014|11/24/2014|  Second Class|   RM-19675|    Robert Marley|Home Office|United States|       Monroe| Louisiana|      71203|  South|TEC-PH-10003273|     Technology|      Phones|        AT&T TR1909W|  503.96|       4|       0|131.0296|           352.772|\n",
            "|   190|CA-2015-102281|10/12/2015|10/14/2015|   First Class|   MP-17470|      Mark Packer|Home Office|United States|New York City|  New York|      10035|   East|FUR-BO-10002613|      Furniture|   Bookcases|Atlantic Metals M...| 899.136|       4|     0.2| 112.392| 629.3951999999999|\n",
            "|   227|CA-2015-163055|  8/9/2015| 8/16/2015|Standard Class|   DS-13180|      David Smith|  Corporate|United States|      Detroit|  Michigan|      48227|Central|FUR-TA-10003748|      Furniture|      Tables|Bevis 36 x 72 Con...|  622.45|       5|       0| 136.939|435.71500000000003|\n",
            "|   245|CA-2014-131926|  6/1/2014|  6/6/2014|  Second Class|   DW-13480|    Dianna Wilson|Home Office|United States|    Lakeville| Minnesota|      55044|Central|FUR-CH-10004063|      Furniture|      Chairs|Global Deluxe Hig...| 2001.86|       7|       0|580.5394|          1401.302|\n",
            "|   248|CA-2014-131926|  6/1/2014|  6/6/2014|  Second Class|   DW-13480|    Dianna Wilson|Home Office|United States|    Lakeville| Minnesota|      55044|Central|OFF-AP-10002945|Office Supplies|  Appliances|Honeywell Envirac...| 1503.25|       5|       0|496.0725|1052.2749999999999|\n",
            "|   252|CA-2016-145625| 9/11/2016| 9/17/2016|Standard Class|   KC-16540|  Kelly Collister|   Consumer|United States|    San Diego|California|      92037|   West|TEC-AC-10003832|     Technology| Accessories|Logitech P710e Mo...| 3347.37|      13|       0|636.0003|2343.1589999999997|\n",
            "|   254|CA-2016-146941|12/10/2016|12/13/2016|   First Class|   DL-13315|Delfina Latchford|   Consumer|United States|New York City|  New York|      10024|   East|OFF-EN-10003296|Office Supplies|   Envelopes|Tyvek Side-Openin...|  361.92|       4|       0| 162.864|           253.344|\n",
            "|   271|CA-2017-163979|12/28/2017|  1/2/2018|  Second Class|   KH-16690| Kristen Hastings|  Corporate|United States|San Francisco|California|      94110|   West|OFF-ST-10003208|Office Supplies|     Storage|Adjustable Depth ...|  725.84|       4|       0|210.4936|508.08799999999997|\n",
            "|   282|US-2015-161991| 9/26/2015| 9/28/2015|  Second Class|   SC-20725|Steven Cartwright|   Consumer|United States|      Houston|     Texas|      77070|Central|TEC-PH-10001760|     Technology|      Phones|Bose SoundLink Bl...|  1114.4|       7|     0.2|  376.11|            780.08|\n",
            "+------+--------------+----------+----------+--------------+-----------+-----------------+-----------+-------------+-------------+----------+-----------+-------+---------------+---------------+------------+--------------------+--------+--------+--------+--------+------------------+\n",
            "only showing top 20 rows\n",
            "\n"
          ]
        }
      ]
    },
    {
      "cell_type": "code",
      "source": [
        "df1.filter(df1['Profit']>100).count()"
      ],
      "metadata": {
        "colab": {
          "base_uri": "https://localhost:8080/"
        },
        "id": "zgQsuqwtAly2",
        "outputId": "472a28fb-21d6-4b1b-de64-9b1f25410176"
      },
      "execution_count": 67,
      "outputs": [
        {
          "output_type": "execute_result",
          "data": {
            "text/plain": [
              "888"
            ]
          },
          "metadata": {},
          "execution_count": 67
        }
      ]
    },
    {
      "cell_type": "markdown",
      "source": [
        "888 customers for profit >$100"
      ],
      "metadata": {
        "id": "_e_XpcqNBLwp"
      }
    },
    {
      "cell_type": "code",
      "source": [
        "## but I want to see only customer name and how much profit I made\n",
        "\n",
        "df1.filter(df1['Profit']>100).select('Customer Name').show()"
      ],
      "metadata": {
        "colab": {
          "base_uri": "https://localhost:8080/"
        },
        "id": "GEENVLCDAyKN",
        "outputId": "30bd2f2b-c488-48fe-ca7e-1e74bf4ff6a8"
      },
      "execution_count": 70,
      "outputs": [
        {
          "output_type": "stream",
          "name": "stdout",
          "text": [
            "+-----------------+\n",
            "|    Customer Name|\n",
            "+-----------------+\n",
            "|      Claire Gute|\n",
            "|     Irene Maddox|\n",
            "|      Emily Burns|\n",
            "|        Gene Hale|\n",
            "|   Janet Molinari|\n",
            "|    Brendan Sweed|\n",
            "|        Dave Kipp|\n",
            "|   Sandra Glassco|\n",
            "|   Justin Ellison|\n",
            "|   Justin Ellison|\n",
            "|       Nora Paige|\n",
            "|    Robert Marley|\n",
            "|      Mark Packer|\n",
            "|      David Smith|\n",
            "|    Dianna Wilson|\n",
            "|    Dianna Wilson|\n",
            "|  Kelly Collister|\n",
            "|Delfina Latchford|\n",
            "| Kristen Hastings|\n",
            "|Steven Cartwright|\n",
            "+-----------------+\n",
            "only showing top 20 rows\n",
            "\n"
          ]
        }
      ]
    },
    {
      "cell_type": "code",
      "source": [
        "## but I want to see only customer name, city and how much profit I made\n",
        "\n",
        "df1.filter(df1['Profit']>100).select(['Customer Name', 'city','Profit']).show()"
      ],
      "metadata": {
        "colab": {
          "base_uri": "https://localhost:8080/"
        },
        "id": "jE2QFHraIMy7",
        "outputId": "566df929-8eea-4c4d-9e42-b96e8cdd17a5"
      },
      "execution_count": 73,
      "outputs": [
        {
          "output_type": "stream",
          "name": "stdout",
          "text": [
            "+-----------------+-------------+--------+\n",
            "|    Customer Name|         city|  Profit|\n",
            "+-----------------+-------------+--------+\n",
            "|      Claire Gute|    Henderson| 219.582|\n",
            "|     Irene Maddox|      Seattle|132.5922|\n",
            "|      Emily Burns|         Orem|240.2649|\n",
            "|        Gene Hale|   Richardson|123.4737|\n",
            "|   Janet Molinari|New York City|298.6855|\n",
            "|    Brendan Sweed|      Gilbert|111.3024|\n",
            "|        Dave Kipp|      Seattle|165.3813|\n",
            "|   Sandra Glassco| Independence|218.2518|\n",
            "|   Justin Ellison|     Franklin|103.8015|\n",
            "|   Justin Ellison|     Franklin| 585.552|\n",
            "|       Nora Paige|       Edmond|236.2325|\n",
            "|    Robert Marley|       Monroe|131.0296|\n",
            "|      Mark Packer|New York City| 112.392|\n",
            "|      David Smith|      Detroit| 136.939|\n",
            "|    Dianna Wilson|    Lakeville|580.5394|\n",
            "|    Dianna Wilson|    Lakeville|496.0725|\n",
            "|  Kelly Collister|    San Diego|636.0003|\n",
            "|Delfina Latchford|New York City| 162.864|\n",
            "| Kristen Hastings|San Francisco|210.4936|\n",
            "|Steven Cartwright|      Houston|  376.11|\n",
            "+-----------------+-------------+--------+\n",
            "only showing top 20 rows\n",
            "\n"
          ]
        }
      ]
    },
    {
      "cell_type": "code",
      "source": [
        "df1.filter((df1['Profit']>100) & (df1['City']=='Detroit')).select(['Customer Name', 'city','Profit']).show()"
      ],
      "metadata": {
        "colab": {
          "base_uri": "https://localhost:8080/"
        },
        "id": "-bcioO94IMu_",
        "outputId": "1e398c5e-042b-4749-f546-76e07386f350"
      },
      "execution_count": 75,
      "outputs": [
        {
          "output_type": "stream",
          "name": "stdout",
          "text": [
            "+----------------+-------+--------+\n",
            "|   Customer Name|   city|  Profit|\n",
            "+----------------+-------+--------+\n",
            "|     David Smith|Detroit| 136.939|\n",
            "|   Michael Paige|Detroit|231.4116|\n",
            "|   Tracy Hopkins|Detroit|  135.98|\n",
            "|    Bart Watters|Detroit| 679.996|\n",
            "|      Bill Tyler|Detroit|121.7601|\n",
            "| Damala Kotsonis|Detroit|226.9644|\n",
            "|Theone Pippenger|Detroit|412.5394|\n",
            "|       Max Jones|Detroit|421.0824|\n",
            "|      Sean Wendt|Detroit| 134.654|\n",
            "|     Rick Wilson|Detroit|423.0085|\n",
            "|     Rick Wilson|Detroit|   119.2|\n",
            "|    Ken Lonsdale|Detroit|219.9904|\n",
            "|    Ken Lonsdale|Detroit|165.3496|\n",
            "|        John Lee|Detroit| 136.665|\n",
            "| Laura Armstrong|Detroit|  700.98|\n",
            "| Laura Armstrong|Detroit| 150.984|\n",
            "| Cynthia Arntzen|Detroit|134.5302|\n",
            "|    Nathan Mautz|Detroit|   245.7|\n",
            "|    Andrew Allen|Detroit|163.1898|\n",
            "|    Rick Bensley|Detroit| 146.388|\n",
            "+----------------+-------+--------+\n",
            "only showing top 20 rows\n",
            "\n"
          ]
        }
      ]
    },
    {
      "cell_type": "code",
      "source": [
        "## on the other hand : profit < $100, low profitable customers , who live in Detroit\n",
        "## use ' ~ ' example ~(df['sex']=='male') mean female\n",
        "\n",
        "df1.filter(~(df1['Profit']>100) & (df1['City']=='Detroit')).select(['Customer Name', 'city','Profit']).show()"
      ],
      "metadata": {
        "colab": {
          "base_uri": "https://localhost:8080/"
        },
        "id": "EdDesweyLAQj",
        "outputId": "88af39ad-7051-42ad-970b-4a889ebcc1db"
      },
      "execution_count": 77,
      "outputs": [
        {
          "output_type": "stream",
          "name": "stdout",
          "text": [
            "+-------------------+-------+-------+\n",
            "|      Customer Name|   city| Profit|\n",
            "+-------------------+-------+-------+\n",
            "|        David Smith|Detroit|  0.968|\n",
            "|        David Smith|Detroit| 0.2198|\n",
            "|          Pete Kriz|Detroit|  3.666|\n",
            "|          Pete Kriz|Detroit|23.3928|\n",
            "|          Pete Kriz|Detroit|20.5755|\n",
            "|          Pete Kriz|Detroit|    0.0|\n",
            "|          Pete Kriz|Detroit|29.1528|\n",
            "|          Pete Kriz|Detroit| 10.584|\n",
            "|       Matt Connell|Detroit| 21.098|\n",
            "|      Michael Paige|Detroit|80.0199|\n",
            "|        Peter McVee|Detroit| 10.048|\n",
            "|      Tracy Hopkins|Detroit|    0.0|\n",
            "|      Tracy Hopkins|Detroit| 5.4128|\n",
            "|Maribeth Schnelling|Detroit|   51.8|\n",
            "|         Bill Tyler|Detroit| 9.3624|\n",
            "|    Damala Kotsonis|Detroit|19.5238|\n",
            "|    Damala Kotsonis|Detroit| 6.2208|\n",
            "|      Dianna Wilson|Detroit|    0.0|\n",
            "|        Cathy Hwang|Detroit| 74.975|\n",
            "|   Theone Pippenger|Detroit| 63.984|\n",
            "+-------------------+-------+-------+\n",
            "only showing top 20 rows\n",
            "\n"
          ]
        }
      ]
    },
    {
      "cell_type": "markdown",
      "source": [
        "**groupby method in pyspark **"
      ],
      "metadata": {
        "id": "PxnByETFMBk-"
      }
    },
    {
      "cell_type": "code",
      "source": [
        "df1.groupby('Region').mean().show()"
      ],
      "metadata": {
        "colab": {
          "base_uri": "https://localhost:8080/"
        },
        "id": "liJCVxJkNFcI",
        "outputId": "ff302fcd-4f97-40ca-9800-1c7be6619e5a"
      },
      "execution_count": 87,
      "outputs": [
        {
          "output_type": "stream",
          "name": "stdout",
          "text": [
            "+-------+-----------------+------------------+------------------+------------------+\n",
            "| Region|      avg(Row ID)|  avg(Postal Code)|       avg(Profit)|      avg(30%_off)|\n",
            "+-------+-----------------+------------------+------------------+------------------+\n",
            "|  South|5069.935185185185| 34490.77283950617|28.796506790123484|172.44364122862555|\n",
            "|Central|5030.547998278089|65340.572535514424|17.283901420576836|154.18611104424758|\n",
            "|   East|4941.685042134832|17616.466994382023| 32.16399462780904|170.73143606676328|\n",
            "|   West|4986.524508273494|  91707.6965344989|33.500999531689054|161.15841921587582|\n",
            "+-------+-----------------+------------------+------------------+------------------+\n",
            "\n"
          ]
        }
      ]
    },
    {
      "cell_type": "code",
      "source": [
        "## average profit for each region\n",
        "\n",
        "\n",
        "df1.groupby('Region').mean().select(['Region','avg(Profit)']).show()"
      ],
      "metadata": {
        "colab": {
          "base_uri": "https://localhost:8080/"
        },
        "id": "WNlpnI2fIMq4",
        "outputId": "e420975c-ba67-4042-d1b8-93513747c985"
      },
      "execution_count": 86,
      "outputs": [
        {
          "output_type": "stream",
          "name": "stdout",
          "text": [
            "+-------+------------------+\n",
            "| Region|       avg(Profit)|\n",
            "+-------+------------------+\n",
            "|  South|28.796506790123484|\n",
            "|Central|17.283901420576836|\n",
            "|   East| 32.16399462780904|\n",
            "|   West|33.500999531689054|\n",
            "+-------+------------------+\n",
            "\n"
          ]
        }
      ]
    },
    {
      "cell_type": "markdown",
      "source": [
        "**Sort every row into Descending Order**"
      ],
      "metadata": {
        "id": "26BxY89QNM4W"
      }
    },
    {
      "cell_type": "code",
      "source": [
        "df1.orderBy(df1['Profit'].desc()).show()"
      ],
      "metadata": {
        "colab": {
          "base_uri": "https://localhost:8080/"
        },
        "id": "PKDTrm2dNLpa",
        "outputId": "fc5f8dbf-d953-4de6-ef23-7cef682bd201"
      },
      "execution_count": 92,
      "outputs": [
        {
          "output_type": "stream",
          "name": "stdout",
          "text": [
            "+------+--------------+----------+----------+--------------+-----------+--------------------+-----------+-------------+---------------+------------+-----------+-------+---------------+---------------+------------+--------------------+---------+--------+--------+---------+------------------+\n",
            "|Row ID|      Order ID|Order Date| Ship Date|     Ship Mode|Customer ID|       Customer Name|    Segment|      Country|           City|       State|Postal Code| Region|            SKU|       Category|Sub-Category|        Product Name|    Sales|Quantity|Discount|   Profit|           30%_off|\n",
            "+------+--------------+----------+----------+--------------+-----------+--------------------+-----------+-------------+---------------+------------+-----------+-------+---------------+---------------+------------+--------------------+---------+--------+--------+---------+------------------+\n",
            "|  6827|CA-2016-118689| 10/2/2016| 10/9/2016|Standard Class|   TC-20980|        Tamara Chand|  Corporate|United States|      Lafayette|     Indiana|      47905|Central|TEC-CO-10004722|     Technology|     Copiers|Canon imageCLASS ...| 17499.95|       5|       0| 8399.976|         12249.965|\n",
            "|  8154|CA-2017-140151| 3/23/2017| 3/25/2017|   First Class|   RB-19360|        Raymond Buch|   Consumer|United States|        Seattle|  Washington|      98115|   West|TEC-CO-10004722|     Technology|     Copiers|Canon imageCLASS ...| 13999.96|       4|       0|6719.9808| 9799.971999999998|\n",
            "|  4191|CA-2017-166709|11/17/2017|11/22/2017|Standard Class|   HL-15040|        Hunter Lopez|   Consumer|United States|         Newark|    Delaware|      19711|   East|TEC-CO-10004722|     Technology|     Copiers|Canon imageCLASS ...| 10499.97|       3|       0|5039.9856| 7349.978999999999|\n",
            "|  9040|CA-2016-117121|12/17/2016|12/21/2016|Standard Class|   AB-10105|       Adrian Barton|   Consumer|United States|        Detroit|    Michigan|      48205|Central|OFF-BI-10000545|Office Supplies|     Binders|GBC Ibimaster 500...|  9892.74|      13|       0|  4946.37|          6924.918|\n",
            "|  4099|CA-2014-116904| 9/23/2014| 9/28/2014|Standard Class|   SC-20095|        Sanjit Chand|   Consumer|United States|    Minneapolis|   Minnesota|      55407|Central|OFF-BI-10001120|Office Supplies|     Binders|Ibico EPK-21 Elec...|  9449.95|       5|       0|4630.4755|          6614.965|\n",
            "|  2624|CA-2017-127180|10/22/2017|10/24/2017|   First Class|   TA-21385|        Tom Ashbrook|Home Office|United States|  New York City|    New York|      10024|   East|TEC-CO-10004722|     Technology|     Copiers|Canon imageCLASS ...|11199.968|       4|     0.2|3919.9888|         7839.9776|\n",
            "|   510|CA-2015-145352| 3/16/2015| 3/22/2015|Standard Class|   CM-12385|Christopher Martinez|   Consumer|United States|        Atlanta|     Georgia|      30318|  South|OFF-BI-10003527|Office Supplies|     Binders|Fellowes PB500 El...|  6354.95|       5|       0| 3177.475| 4448.464999999999|\n",
            "|  8489|CA-2016-158841|  2/2/2016|  2/4/2016|  Second Class|   SE-20110|        Sanjit Engle|   Consumer|United States|      Arlington|    Virginia|      22204|  South|TEC-MA-10001127|     Technology|    Machines|\"HP Designjet T52...|  8749.95|       5|       0| 2799.984|          6124.965|\n",
            "|  7667|US-2016-140158| 10/4/2016| 10/8/2016|Standard Class|   DR-12940|       Daniel Raglin|Home Office|United States|     Providence|Rhode Island|       2908|   East|TEC-CO-10001449|     Technology|     Copiers|Hewlett Packard L...|  5399.91|       9|       0|2591.9568|3779.9369999999994|\n",
            "|  6521|CA-2017-138289| 1/16/2017| 1/18/2017|  Second Class|   AR-10540|         Andy Reiter|   Consumer|United States|        Jackson|    Michigan|      49201|Central|OFF-BI-10004995|Office Supplies|     Binders|GBC DocuBind P400...|  5443.96|       4|       0|2504.2216|          3810.772|\n",
            "|  1086|US-2016-143819|  3/1/2016|  3/5/2016|Standard Class|   KD-16270|       Karen Daniels|   Consumer|United States|        Yonkers|    New York|      10701|   East|TEC-MA-10003979|     Technology|    Machines|Ativa V4110MDD Mi...|  4899.93|       7|       0|2400.9657|          3429.951|\n",
            "|  4278|US-2016-107440| 4/16/2016| 4/20/2016|Standard Class|   BS-11365|        Bill Shonely|  Corporate|United States|       Lakewood|  New Jersey|       8701|   East|TEC-MA-10001047|     Technology|    Machines|3D Systems Cube P...|  9099.93|       7|       0|2365.9818|          6369.951|\n",
            "|  8991|US-2015-128587|12/24/2015|12/30/2015|Standard Class|   HM-14860|         Harry Marie|  Corporate|United States|    Springfield|    Missouri|      65807|Central|TEC-CO-10003763|     Technology|     Copiers|Canon PC1060 Pers...|  4899.93|       7|       0|2302.9671|          3429.951|\n",
            "|  6627|CA-2014-145541|12/14/2014|12/21/2014|Standard Class|   TB-21400|    Tom Boeckenhauer|   Consumer|United States|  New York City|    New York|      10024|   East|TEC-MA-10001127|     Technology|    Machines|\"HP Designjet T52...|  6999.96|       4|       0|2239.9872|          4899.972|\n",
            "|  8205|CA-2015-114811| 11/8/2015| 11/8/2015|      Same Day|   KD-16495|       Keith Dawkins|  Corporate|United States|  New York City|    New York|      10024|   East|TEC-MA-10000045|     Technology|    Machines|Zebra ZM400 Therm...|   4643.8|       4|       0| 2229.024|           3250.66|\n",
            "|   319|CA-2014-164973| 11/4/2014| 11/9/2014|Standard Class|   NM-18445|        Nathan Mautz|Home Office|United States|  New York City|    New York|      10024|   East|TEC-MA-10002927|     Technology|    Machines|Canon imageCLASS ...|  3991.98|       2|       0|  1995.99|          2794.386|\n",
            "|  8859|CA-2017-135909|10/13/2017|10/20/2017|Standard Class|   JW-15220|           Jane Waco|  Corporate|United States|     Sacramento|  California|      95823|   West|OFF-BI-10003527|Office Supplies|     Binders|Fellowes PB500 El...|  5083.96|       5|     0.2| 1906.485|          3558.772|\n",
            "|  7684|CA-2015-120782| 4/28/2015|  5/1/2015|   First Class|   SD-20485|     Shirley Daniels|Home Office|United States|        Midland|    Michigan|      48640|Central|OFF-BI-10003527|Office Supplies|     Binders|Fellowes PB500 El...|  3812.97|       3|       0| 1906.485|2669.0789999999997|\n",
            "|  7915|CA-2017-165323| 6/17/2017| 6/21/2017|Standard Class|   SR-20740|       Steven Roelle|Home Office|United States|  New York City|    New York|      10024|   East|TEC-MA-10003673|     Technology|    Machines|Hewlett-Packard D...|   3404.5|       5|       0| 1668.205|2383.1499999999996|\n",
            "|  7819|CA-2016-138478|10/21/2016|10/26/2016|  Second Class|   DP-13390|       Dennis Pardue|Home Office|United States|North Las Vegas|      Nevada|      89031|   West|OFF-BI-10001120|Office Supplies|     Binders|Ibico EPK-21 Elec...| 4535.976|       3|     0.2|1644.2913|3175.1831999999995|\n",
            "+------+--------------+----------+----------+--------------+-----------+--------------------+-----------+-------------+---------------+------------+-----------+-------+---------------+---------------+------------+--------------------+---------+--------+--------+---------+------------------+\n",
            "only showing top 20 rows\n",
            "\n"
          ]
        }
      ]
    },
    {
      "cell_type": "code",
      "source": [
        "df1.orderBy(df1['Profit'].desc()).select(['Category','Product Name','Profit']).show()"
      ],
      "metadata": {
        "colab": {
          "base_uri": "https://localhost:8080/"
        },
        "id": "MejtvuvVIMkJ",
        "outputId": "870e33de-4539-43d9-91df-d18449573a83"
      },
      "execution_count": 93,
      "outputs": [
        {
          "output_type": "stream",
          "name": "stdout",
          "text": [
            "+---------------+--------------------+---------+\n",
            "|       Category|        Product Name|   Profit|\n",
            "+---------------+--------------------+---------+\n",
            "|     Technology|Canon imageCLASS ...| 8399.976|\n",
            "|     Technology|Canon imageCLASS ...|6719.9808|\n",
            "|     Technology|Canon imageCLASS ...|5039.9856|\n",
            "|Office Supplies|GBC Ibimaster 500...|  4946.37|\n",
            "|Office Supplies|Ibico EPK-21 Elec...|4630.4755|\n",
            "|     Technology|Canon imageCLASS ...|3919.9888|\n",
            "|Office Supplies|Fellowes PB500 El...| 3177.475|\n",
            "|     Technology|\"HP Designjet T52...| 2799.984|\n",
            "|     Technology|Hewlett Packard L...|2591.9568|\n",
            "|Office Supplies|GBC DocuBind P400...|2504.2216|\n",
            "|     Technology|Ativa V4110MDD Mi...|2400.9657|\n",
            "|     Technology|3D Systems Cube P...|2365.9818|\n",
            "|     Technology|Canon PC1060 Pers...|2302.9671|\n",
            "|     Technology|\"HP Designjet T52...|2239.9872|\n",
            "|     Technology|Zebra ZM400 Therm...| 2229.024|\n",
            "|     Technology|Canon imageCLASS ...|  1995.99|\n",
            "|Office Supplies|Fellowes PB500 El...| 1906.485|\n",
            "|Office Supplies|Fellowes PB500 El...| 1906.485|\n",
            "|     Technology|Hewlett-Packard D...| 1668.205|\n",
            "|Office Supplies|Ibico EPK-21 Elec...|1644.2913|\n",
            "+---------------+--------------------+---------+\n",
            "only showing top 20 rows\n",
            "\n"
          ]
        }
      ]
    },
    {
      "cell_type": "markdown",
      "source": [
        "**Handling missing value in Pyspark**"
      ],
      "metadata": {
        "id": "fTINoPr9TLMN"
      }
    },
    {
      "cell_type": "code",
      "source": [
        "from pyspark.sql.functions import mean"
      ],
      "metadata": {
        "id": "BSZRUSD_IMbT"
      },
      "execution_count": 94,
      "outputs": []
    },
    {
      "cell_type": "code",
      "source": [
        "mean_sales = df1.select(mean(df['Sales'])).collect()"
      ],
      "metadata": {
        "id": "e7p3guHVIMJV"
      },
      "execution_count": 95,
      "outputs": []
    },
    {
      "cell_type": "code",
      "source": [
        "mean_sales"
      ],
      "metadata": {
        "colab": {
          "base_uri": "https://localhost:8080/"
        },
        "id": "2AVrV-Y3T_fp",
        "outputId": "090bda2f-7078-4657-9e8c-61aef2ae0e95"
      },
      "execution_count": 96,
      "outputs": [
        {
          "output_type": "execute_result",
          "data": {
            "text/plain": [
              "[Row(avg(Sales)=234.41818199917006)]"
            ]
          },
          "metadata": {},
          "execution_count": 96
        }
      ]
    },
    {
      "cell_type": "code",
      "source": [
        "# index 0\n",
        "mean_sales[0][0]\n",
        "\n",
        "## for actual mean"
      ],
      "metadata": {
        "colab": {
          "base_uri": "https://localhost:8080/"
        },
        "id": "yaL80Jo0T_Tn",
        "outputId": "6aa9150c-6d5e-469d-811d-a8a2afddff70"
      },
      "execution_count": 98,
      "outputs": [
        {
          "output_type": "execute_result",
          "data": {
            "text/plain": [
              "234.41818199917006"
            ]
          },
          "metadata": {},
          "execution_count": 98
        }
      ]
    },
    {
      "cell_type": "code",
      "source": [
        "df1.fillna(mean_sales[0][0]).show()"
      ],
      "metadata": {
        "colab": {
          "base_uri": "https://localhost:8080/"
        },
        "id": "0Bycn-7yUG6P",
        "outputId": "313c6082-e242-4852-b32f-b5da8d93a83a"
      },
      "execution_count": 99,
      "outputs": [
        {
          "output_type": "stream",
          "name": "stdout",
          "text": [
            "+------+--------------+----------+----------+--------------+-----------+------------------+-----------+-------------+---------------+--------------+-----------+-------+---------------+---------------+------------+--------------------+--------+--------+--------+--------+------------------+\n",
            "|Row ID|      Order ID|Order Date| Ship Date|     Ship Mode|Customer ID|     Customer Name|    Segment|      Country|           City|         State|Postal Code| Region|            SKU|       Category|Sub-Category|        Product Name|   Sales|Quantity|Discount|  Profit|           30%_off|\n",
            "+------+--------------+----------+----------+--------------+-----------+------------------+-----------+-------------+---------------+--------------+-----------+-------+---------------+---------------+------------+--------------------+--------+--------+--------+--------+------------------+\n",
            "|     1|CA-2016-152156| 11/8/2016|11/11/2016|  Second Class|   CG-12520|       Claire Gute|   Consumer|United States|      Henderson|      Kentucky|      42420|  South|FUR-BO-10001798|      Furniture|   Bookcases|Bush Somerset Col...|  261.96|       2|       0| 41.9136|183.37199999999999|\n",
            "|     2|CA-2016-152156| 11/8/2016|11/11/2016|  Second Class|   CG-12520|       Claire Gute|   Consumer|United States|      Henderson|      Kentucky|      42420|  South|FUR-CH-10000454|      Furniture|      Chairs|Hon Deluxe Fabric...|  731.94|       3|       0| 219.582| 512.3580000000001|\n",
            "|     3|CA-2016-138688| 6/12/2016| 6/16/2016|  Second Class|   DV-13045|   Darrin Van Huff|  Corporate|United States|    Los Angeles|    California|      90036|   West|OFF-LA-10000240|Office Supplies|      Labels|Self-Adhesive Add...|   14.62|       2|       0|  6.8714|10.233999999999998|\n",
            "|     4|US-2015-108966|10/11/2015|10/18/2015|Standard Class|   SO-20335|    Sean O'Donnell|   Consumer|United States|Fort Lauderdale|       Florida|      33311|  South|FUR-TA-10000577|      Furniture|      Tables|Bretford CR4500 S...|957.5775|       5|    0.45|-383.031| 670.3042499999999|\n",
            "|     5|US-2015-108966|10/11/2015|10/18/2015|Standard Class|   SO-20335|    Sean O'Donnell|   Consumer|United States|Fort Lauderdale|       Florida|      33311|  South|OFF-ST-10000760|Office Supplies|     Storage|Eldon Fold 'N Rol...|  22.368|       2|     0.2|  2.5164|15.657599999999999|\n",
            "|     6|CA-2014-115812|  6/9/2014| 6/14/2014|Standard Class|   BH-11710|   Brosina Hoffman|   Consumer|United States|    Los Angeles|    California|      90032|   West|FUR-FU-10001487|      Furniture| Furnishings|Eldon Expressions...|   48.86|       7|       0| 14.1694|            34.202|\n",
            "|     7|CA-2014-115812|  6/9/2014| 6/14/2014|Standard Class|   BH-11710|   Brosina Hoffman|   Consumer|United States|    Los Angeles|    California|      90032|   West|OFF-AR-10002833|Office Supplies|         Art|          Newell 322|    7.28|       4|       0|  1.9656|             5.096|\n",
            "|     8|CA-2014-115812|  6/9/2014| 6/14/2014|Standard Class|   BH-11710|   Brosina Hoffman|   Consumer|United States|    Los Angeles|    California|      90032|   West|TEC-PH-10002275|     Technology|      Phones|Mitel 5320 IP Pho...| 907.152|       6|     0.2| 90.7152|          635.0064|\n",
            "|     9|CA-2014-115812|  6/9/2014| 6/14/2014|Standard Class|   BH-11710|   Brosina Hoffman|   Consumer|United States|    Los Angeles|    California|      90032|   West|OFF-BI-10003910|Office Supplies|     Binders|DXL Angle-View Bi...|  18.504|       3|     0.2|  5.7825|           12.9528|\n",
            "|    10|CA-2014-115812|  6/9/2014| 6/14/2014|Standard Class|   BH-11710|   Brosina Hoffman|   Consumer|United States|    Los Angeles|    California|      90032|   West|OFF-AP-10002892|Office Supplies|  Appliances|Belkin F5C206VTEL...|   114.9|       5|       0|   34.47| 80.42999999999999|\n",
            "|    11|CA-2014-115812|  6/9/2014| 6/14/2014|Standard Class|   BH-11710|   Brosina Hoffman|   Consumer|United States|    Los Angeles|    California|      90032|   West|FUR-TA-10001539|      Furniture|      Tables|Chromcraft Rectan...|1706.184|       9|     0.2| 85.3092|         1194.3288|\n",
            "|    12|CA-2014-115812|  6/9/2014| 6/14/2014|Standard Class|   BH-11710|   Brosina Hoffman|   Consumer|United States|    Los Angeles|    California|      90032|   West|TEC-PH-10002033|     Technology|      Phones|Konftel 250 Confe...| 911.424|       4|     0.2| 68.3568| 637.9967999999999|\n",
            "|    13|CA-2017-114412| 4/15/2017| 4/20/2017|Standard Class|   AA-10480|      Andrew Allen|   Consumer|United States|        Concord|North Carolina|      28027|  South|OFF-PA-10002365|Office Supplies|       Paper|          Xerox 1967|  15.552|       3|     0.2|  5.4432|10.886399999999998|\n",
            "|    14|CA-2016-161389| 12/5/2016|12/10/2016|Standard Class|   IM-15070|      Irene Maddox|   Consumer|United States|        Seattle|    Washington|      98103|   West|OFF-BI-10003656|Office Supplies|     Binders|Fellowes PB200 Pl...| 407.976|       3|     0.2|132.5922|          285.5832|\n",
            "|    15|US-2015-118983|11/22/2015|11/26/2015|Standard Class|   HP-14815|     Harold Pawlan|Home Office|United States|     Fort Worth|         Texas|      76106|Central|OFF-AP-10002311|Office Supplies|  Appliances|Holmes Replacemen...|   68.81|       5|     0.8|-123.858|            48.167|\n",
            "|    16|US-2015-118983|11/22/2015|11/26/2015|Standard Class|   HP-14815|     Harold Pawlan|Home Office|United States|     Fort Worth|         Texas|      76106|Central|OFF-BI-10000756|Office Supplies|     Binders|Storex DuraTech R...|   2.544|       3|     0.8|  -3.816|            1.7808|\n",
            "|    17|CA-2014-105893|11/11/2014|11/18/2014|Standard Class|   PK-19075|         Pete Kriz|   Consumer|United States|        Madison|     Wisconsin|      53711|Central|OFF-ST-10004186|Office Supplies|     Storage|\"Stur-D-Stor Shel...|  665.88|       6|       0| 13.3176|           466.116|\n",
            "|    18|CA-2014-167164| 5/13/2014| 5/15/2014|  Second Class|   AG-10270|   Alejandro Grove|   Consumer|United States|    West Jordan|          Utah|      84084|   West|OFF-ST-10000107|Office Supplies|     Storage|Fellowes Super St...|    55.5|       2|       0|    9.99|38.849999999999994|\n",
            "|    19|CA-2014-143336| 8/27/2014|  9/1/2014|  Second Class|   ZD-21925|Zuschuss Donatelli|   Consumer|United States|  San Francisco|    California|      94109|   West|OFF-AR-10003056|Office Supplies|         Art|          Newell 341|    8.56|       2|       0|  2.4824|             5.992|\n",
            "|    20|CA-2014-143336| 8/27/2014|  9/1/2014|  Second Class|   ZD-21925|Zuschuss Donatelli|   Consumer|United States|  San Francisco|    California|      94109|   West|TEC-PH-10001949|     Technology|      Phones|Cisco SPA 501G IP...|  213.48|       3|     0.2|  16.011|149.43599999999998|\n",
            "+------+--------------+----------+----------+--------------+-----------+------------------+-----------+-------------+---------------+--------------+-----------+-------+---------------+---------------+------------+--------------------+--------+--------+--------+--------+------------------+\n",
            "only showing top 20 rows\n",
            "\n"
          ]
        }
      ]
    },
    {
      "cell_type": "code",
      "source": [
        ""
      ],
      "metadata": {
        "id": "evcA1xCBUrXw"
      },
      "execution_count": null,
      "outputs": []
    }
  ]
}